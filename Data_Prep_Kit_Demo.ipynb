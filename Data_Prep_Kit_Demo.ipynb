{
 "cells": [
  {
   "cell_type": "markdown",
   "id": "0",
   "metadata": {
    "id": "a98e6dac-e368-4310-a0cb-751faf1e3b9b"
   },
   "source": [
    "The following notebook example will allow you to test DPK, without cloning the repo. You can run it either on Google Colab or you can use your local environment (by downloading just the notebook). We use a temporary folder for input and output, but users are encouraged to use their own input folder."
   ]
  },
  {
   "cell_type": "code",
   "execution_count": null,
   "id": "1",
   "metadata": {
    "colab": {
     "base_uri": "https://localhost:8080/"
    },
    "id": "JgSkrMH1jTjC",
    "outputId": "ffee2a52-a0da-4941-fc90-68803eda7ddd"
   },
   "outputs": [],
   "source": [
    "#from google.colab import drive\n",
    "#drive.mount('/content/drive')"
   ]
  },
  {
   "cell_type": "code",
   "execution_count": null,
   "id": "2",
   "metadata": {
    "id": "c4f9c952-cb3b-40f1-bfb5-00d9a43a5715"
   },
   "outputs": [],
   "source": [
    "%%capture\n",
    "!pip install \"data-prep-toolkit-transforms[pdf2parquet]==1.0.0a2\"\n",
    "!pip install pandas\n",
    "import urllib.request\n",
    "import shutil"
   ]
  },
  {
   "cell_type": "code",
   "execution_count": null,
   "id": "3",
   "metadata": {
    "colab": {
     "base_uri": "https://localhost:8080/"
    },
    "id": "5d447b17",
    "outputId": "a6d41999-aaa7-473d-9758-cabde658ea75"
   },
   "outputs": [],
   "source": [
    "shutil.os.makedirs(\"tmp/input\", exist_ok=True)\n",
    "urllib.request.urlretrieve(\"https://raw.githubusercontent.com/data-prep-kit/data-prep-kit/dev/transforms/language/docling2parquet/test-data/input/archive1.zip\", \"tmp/input/archive1.zip\")\n",
    "urllib.request.urlretrieve(\"https://raw.githubusercontent.com/data-prep-kit/data-prep-kit/dev/transforms/language/docling2parquet/test-data/input/redp5110-ch1.pdf\", \"tmp/input/redp5110-ch1.pdf\")"
   ]
  },
  {
   "cell_type": "code",
   "execution_count": null,
   "id": "4",
   "metadata": {
    "colab": {
     "base_uri": "https://localhost:8080/"
    },
    "id": "YFseIS5qAeW4",
    "outputId": "4ade1da9-da75-4492-b952-d6c266f5fc88"
   },
   "outputs": [],
   "source": [
    "!pip install --upgrade numpy\n",
    "!pip install --upgrade pandas"
   ]
  },
  {
   "cell_type": "code",
   "execution_count": null,
   "id": "5",
   "metadata": {
    "colab": {
     "base_uri": "https://localhost:8080/",
     "height": 1000
    },
    "id": "RuffKj4JA0Tn",
    "outputId": "78ced2ac-ba31-4339-93b5-aee792e019d9"
   },
   "outputs": [],
   "source": [
    "!pip install virtualenv\n",
    "!virtualenv venv\n",
    "!source venv/bin/activate\n",
    "!pip install \"data-prep-toolkit-transforms[pdf2parquet]==1.0.0a2\" pandas\n",
    "#Continue with your notebook from here, but ensure you run all installations within the created virtual environment."
   ]
  },
  {
   "cell_type": "code",
   "execution_count": null,
   "id": "6",
   "metadata": {
    "id": "76469c87-cfd0-4acd-b57f-36edc52018ff"
   },
   "outputs": [],
   "source": [
    "from dpk_pdf2parquet.transform_python import Pdf2Parquet\n",
    "from dpk_pdf2parquet.transform import pdf2parquet_contents_types"
   ]
  },
  {
   "cell_type": "code",
   "execution_count": null,
   "id": "7",
   "metadata": {
    "colab": {
     "base_uri": "https://localhost:8080/",
     "height": 982,
     "referenced_widgets": [
      "60446a9410dc42009fd2f8ef456e40fb",
      "5570473f033542e09bd5b97c8fdb476e",
      "7b1c2cd2f87a490da487df19f98ab74d",
      "63bdd719929247979fdd5918862578f4",
      "c5805374a8e64679b53c8b799dab2220",
      "fa98d6cb83be43cfbe1206b2b22a1a7b",
      "3d97563d865a4510ad9572cc37ec62dd",
      "086c6dbfe97344758d4c17df516de81b",
      "2559a350f75c44d0b8bcdc3444fd52f0",
      "24550450f78b484f95cc4447e2013e39",
      "857aa672baae40118ad0daee39ec4327",
      "54c452e2d1dc494abc5af043ef9b1ed9",
      "f4eb2c64ccb24433ae2a8a2574f58129",
      "851460a8327c431984109c74e6a889f9",
      "4645689c11da4a92b333d0608d4cfad0",
      "85785b206930433089393a1511f376fd",
      "9ee2a926fe304ca0b71a5642fcf35a04",
      "f4902e5a450f439ebb418e9c41230923",
      "230d62171ff247fca7168a00ea6c3bfb",
      "a3b0301494ab40c18b53f07eb8d86990",
      "0b3f51c0cf934f7a90410116a9ae3f44",
      "4a174ce41da0427d9bb9d43ba4335377",
      "483ccf1c64314d9baa0b8ac8e02360a1",
      "eadb96569dbe4f198c8e16a0ae51aabf",
      "5f0962be701a4f30951d6b00422e58aa",
      "85d86d07968f49e4a1bd70bf869fa7f0",
      "16e2d53b6017436182a10d9fee621d6b",
      "faac83fda6e340a5ac6230c2c2148d35",
      "c3da65ccc3244f9abc021b454a517ec8",
      "4d8f3358e0ee45ecb9566391f58c4b99",
      "6393d950b96a4b00a4091a2ff888df87",
      "ff94ed3f44be4c80b3f545493baffb6c",
      "1568226b53bd48eba908f01541ba6d3a",
      "e66af4c0c3ad482ab43ff4aa9dd15a03",
      "095ea00b6fa844889d37c9bbe2490d25",
      "91b66b2eed2a4a6e93f643f73f8d1876",
      "f0d97564f7e7416d827dfc281f9fcb0d",
      "dc8c9fe325d548328e31f8efacea5ed5",
      "240ea1d83fda43e58e293a98174bc4bc",
      "ddf615f283604c76a6b1131ca9443aee",
      "4d04e4be4a4e4c058a4254241f32efdc",
      "fac9d68c7afe4d1a974017c1c14d4f06",
      "a2e05a65bb3b4b82a4f0f39790f739f8",
      "1427ad79ae3b4c839cec156b38709492",
      "5098cbbbd170493890cd24d72f7541c3",
      "8998fb9bc51c4f969674b174535bf75c",
      "1161729d7aa74987986e9869ad0e64ca",
      "6332be9175e94f1b8c1a962843ec66a7",
      "e551d147f20e457a8b34fdb8c52b79e3",
      "22192ec7a6a6489bb24263daae1de84b",
      "0cdfb9a128084457aec914710c1ef402",
      "4080e7ae2bc34b26bbab4d48c799fc3d",
      "982ca0aacac54bd9bc090eae969177bd",
      "844ce82de0c64812be491adaee1e9589",
      "c3d70dcf2fcf44869c8e2cc7f568040b",
      "cc84836ce3c84fff8f45a2587b2bb74e",
      "d77471f54e5744cfbdfd9ce024f6dc27",
      "9caddbd386ec4debbcc79f5fa14d4c82",
      "1ab66d47e8fe4bf88e8cd8e8f100c819",
      "b5852453cfd845c2b19da07fdc988d65",
      "d69e50b187a04d3eb7e3111f26b1652f",
      "fe197f5d725a42e2995f621975c17244",
      "97f3e9d715254ea084474a1d9e5966dc",
      "394b7fc937714547b874c5ddfbc128f3",
      "35d8d78d179d4365a7a91e160020b6ab",
      "ae68d801aeb84f9398fb9379b3550dba",
      "bfd200e44b3142e4a8ce76dbeebed7eb",
      "4ce3e2c9091e43c1b8c5e8c15661f0b7",
      "8a1ccbed212e4a4dbe29e67469965ff2",
      "83926cfd8b844dc8a6a410d454118ab6",
      "15ee1bb524c841cebad917f214443f02",
      "4921e460fb2e41378112574d78126cd3",
      "acdde5334c3b4cc5814e1c4a01daf850",
      "832a9a042d654959b9871a58a0eb5a3a",
      "d8fb22fca44e47dcaeda68b52aa2bc4b",
      "b14cc5cfff4746d78b2f4994e57cdfcb",
      "cb116a9a791a4a6d96c220d6d217f6bd",
      "ef4e414df8fa4e0ba632a7b29a03cff2",
      "6444d0d5282241d1bcece42478976b3d",
      "f09d0934d7494000b6d867d80671fc81",
      "3e55ac5ac1604c2b94d10c6900951b36",
      "e9a6f6cacb1e4e8b932cb14bd12b756d",
      "79a88bd34ca24f71a01d872599ad6bcb",
      "5a8131d3d5044dc9b1c476a41d5f5c44",
      "41405787d18e45a38cfff017338d4208",
      "eaf9c07d098c459aadf735b50d70dbce",
      "470fc1b443e04af99b2f405c4e2bd242",
      "c84d1832a7ff4073a482702129accb6a",
      "3b01a963d8b3483cb1fb7c06b92611ec",
      "a4b6e82c88a44b2eb31bb156993af3cb",
      "44c6505efb114613b9e50985f7254464",
      "d15f9aba089f45b68befb805720e8199",
      "063d2f7b0ada455a8650665a29e7ea2d",
      "b395b007592747c0ba0e4f7dbd89b85b",
      "5b7143e834f44549951943df994a5542",
      "210461246b2d45b58b53aeee9c006dcd",
      "901234cae9954b83b16eb3068a01cc6a",
      "a277352009cc4a57a5c5f5e805fb2c98",
      "fb031995468444a68732de3a56169a53",
      "7feb7b27e3764bec86b8f2bf2ace931e",
      "43d313a391ec4c848a6d02dc7780e66c",
      "3558897264ff4abdb4350d82bb0d25b2",
      "3aca90e3ad1746b38729de305921c9a4",
      "b9eadd917b8d4777877df48d2c669ea7",
      "c90b015fa96b479087642134ae9f137a",
      "dc6333b7c1364352a8fd06f5ab59a734",
      "4292b39d8dbb4828a135ea50d017c3fb",
      "dc471765aaf945a9a7ab18204b5ea9bf",
      "a9332c50a9b24e629c8394b0da7a8fa3",
      "ca9aa5a180df4fb1b642ebeef5f0fe7e"
     ]
    },
    "id": "90277e74-f223-434d-b256-94079bd6c5bc",
    "outputId": "e71011cd-b54d-4967-9084-77ab736c2222"
   },
   "outputs": [],
   "source": [
    "Pdf2Parquet(input_folder= \"tmp/input\",\n",
    "               output_folder= \"tmp/output\",\n",
    "               data_files_to_use=['.pdf', '.zip'],\n",
    "               pdf2parquet_contents_type=pdf2parquet_contents_types.JSON).transform()"
   ]
  },
  {
   "cell_type": "code",
   "execution_count": null,
   "id": "8",
   "metadata": {
    "colab": {
     "base_uri": "https://localhost:8080/",
     "height": 236
    },
    "id": "e2bee8da-c566-4e45-bca1-354dfd04b0df",
    "outputId": "7f612b36-b140-49fa-c615-43c716bb00c9"
   },
   "outputs": [],
   "source": [
    "import pyarrow.parquet as pq\n",
    "import pandas as pd\n",
    "table = pq.read_table('tmp/output/archive1.parquet')\n",
    "table.to_pandas()"
   ]
  },
  {
   "cell_type": "code",
   "execution_count": null,
   "id": "9",
   "metadata": {
    "colab": {
     "base_uri": "https://localhost:8080/",
     "height": 153
    },
    "id": "685229ce-698b-4a97-91f8-b8533337bc0a",
    "outputId": "a82c03ba-152a-45b1-c6cb-6a5213456263"
   },
   "outputs": [],
   "source": [
    "table = pq.read_table('tmp/output/redp5110-ch1.parquet')\n",
    "table.to_pandas()"
   ]
  },
  {
   "cell_type": "code",
   "execution_count": null,
   "id": "10",
   "metadata": {
    "id": "bec85d48-9436-48c2-a55f-7ddcee5e3874"
   },
   "outputs": [],
   "source": [
    "import os\n",
    "\n",
    "# Print current working directory\n",
    "print(\"Current working directory:\", os.getcwd())"
   ]
  },
  {
   "cell_type": "code",
   "execution_count": null,
   "id": "11",
   "metadata": {
    "id": "25427c65-176e-40e8-b703-cdd18ba7a927"
   },
   "outputs": [],
   "source": [
    "# List folders in the current directory\n",
    "print(os.listdir('.'))\n",
    "\n",
    "# Check if 'tmp' is in the current directory\n",
    "if 'tmp' in os.listdir('.'):\n",
    "    print(\"Contents of tmp:\")\n",
    "    print(os.listdir('tmp'))\n",
    "    if 'output' in os.listdir('tmp'):\n",
    "        print(\"Contents of tmp/output:\")\n",
    "        print(os.listdir('tmp/output'))\n"
   ]
  },
  {
   "cell_type": "code",
   "execution_count": null,
   "id": "12",
   "metadata": {
    "id": "acc7e031-cec0-45bf-a2d5-0192a823dbfe"
   },
   "outputs": [],
   "source": [
    "# Search for the parquet file recursively\n",
    "for root, dirs, files in os.walk('.'):\n",
    "    for file in files:\n",
    "        if file.endswith('archive1.parquet'):\n",
    "            print(\"Found:\", os.path.join(root, file))\n"
   ]
  },
  {
   "cell_type": "code",
   "execution_count": null,
   "id": "13",
   "metadata": {
    "id": "b263e542-6da9-47e5-862b-cb6b0f9a3795"
   },
   "outputs": [],
   "source": [
    "#Use Shell Commands to Search(optional)\n",
    "!find . -name \"archive1.parquet\"\n"
   ]
  },
  {
   "cell_type": "code",
   "execution_count": null,
   "id": "14",
   "metadata": {
    "id": "a1897db8-61a8-4b69-b41d-50fc58eaa61f"
   },
   "outputs": [],
   "source": []
  }
 ],
 "metadata": {
  "colab": {
   "provenance": []
  },
  "kernelspec": {
   "display_name": "Python 3.11",
   "language": "python",
   "name": "python3"
  },
  "language_info": {
   "codemirror_mode": {
    "name": "ipython",
    "version": 3
   },
   "file_extension": ".py",
   "mimetype": "text/x-python",
   "name": "python",
   "nbconvert_exporter": "python",
   "pygments_lexer": "ipython3",
   "version": "3.11.13"
  }
 },
 "nbformat": 4,
 "nbformat_minor": 5
}
